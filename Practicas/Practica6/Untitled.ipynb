{
 "cells": [
  {
   "cell_type": "markdown",
   "metadata": {},
   "source": [
    "## DLT"
   ]
  },
  {
   "cell_type": "code",
   "execution_count": 1,
   "metadata": {},
   "outputs": [],
   "source": [
    "import numpy as np\n",
    "import pandas as pd\n",
    "import matplotlib.pyplot as plt"
   ]
  },
  {
   "cell_type": "code",
   "execution_count": 154,
   "metadata": {},
   "outputs": [],
   "source": [
    "np.set_printoptions(formatter={'float': '{: 0.3f}'.format})\n",
    "\n",
    "def dlt(originals, correspondence):  ## numpy arrays of the same size\n",
    "    traslation = 0\n",
    "    scale = 0\n",
    "    \n",
    "    points_number = np.shape(originals)[0];\n",
    "    ## o =  orignals\n",
    "    ## c = correspondence\n",
    "    o_centroid = np.mean(originals, axis=0)\n",
    "    c_centroid = np.mean(correspondence, axis=0)\n",
    "    \n",
    "    o_centered = originals - np.tile(o_centroid, (points_number,1))\n",
    "    c_centered = correspondence - np.tile(c_centroid, (points_number,1))\n",
    "    \n",
    "    o_norms = np.linalg.norm(o_centered, axis=1)\n",
    "    c_norms = np.linalg.norm(c_centered, axis=1)                                           \n",
    "    \n",
    "    o_distance = np.mean(o_norms)\n",
    "    c_distance = np.mean(c_norms)\n",
    "                                          \n",
    "    o_scale = np.sqrt(2)/o_distance\n",
    "    c_scale = np.sqrt(2)/c_distance\n",
    "    \n",
    "    H_sim_prim = np.array([[c_scale,0      ,-c_centroid[0]*c_scale],\n",
    "                          [0      ,c_scale,-c_centroid[1]*c_scale],\n",
    "                          [0      ,0      ,1]])\n",
    "\n",
    "    \n",
    "    H_sim = np.array([[o_scale,0      ,-o_centroid[0]*o_scale],\n",
    "                      [0      ,o_scale,-o_centroid[1]*o_scale],\n",
    "                      [0      ,0      ,1]])\n",
    "    \n",
    "    o_homologous = np.transpose(H_sim @ np.transpose(originals))\n",
    "    c_homologous = np.transpose(H_sim_prim @ np.transpose(correspondence))\n",
    "\n",
    "    H_sim_prim = np.linalg.inv(H_sim_prim)\n",
    "                                             \n",
    "    A = np.zeros((points_number*2,9))\n",
    "\n",
    "    zerot = np.array([0,0,0])\n",
    "\n",
    "    for i in range(0, points_number):\n",
    "        xt = o_homologous[i, :]\n",
    "        \n",
    "        wixt = c_homologous[i,2] * xt\n",
    "        yixt = c_homologous[i,1] * xt\n",
    "        xixt = c_homologous[i,0] * xt\n",
    "        A[2*i,:] = np.concatenate((zerot, -wixt, yixt))\n",
    "        A[2*i + 1,:] = np.concatenate((wixt, zerot, -xixt))\n",
    "    (u,d,v) = np.linalg.svd(A)\n",
    "    H = np.reshape(v[-1, :], (3,3))\n",
    "    H = np.dot(H, H_sim)\n",
    "    H = np.dot(H_sim_prim, H)\n",
    "    return H"
   ]
  },
  {
   "cell_type": "code",
   "execution_count": 155,
   "metadata": {},
   "outputs": [
    {
     "data": {
      "text/plain": [
       "array([[ 2,  4,  1],\n",
       "       [ 6,  2,  1],\n",
       "       [16,  8,  1],\n",
       "       [16,  6,  1],\n",
       "       [14,  2,  1]])"
      ]
     },
     "execution_count": 155,
     "metadata": {},
     "output_type": "execute_result"
    }
   ],
   "source": [
    "matrix = np.array([[1, 2, 1],[3,1, 1],[8, 4, 1],[8,3,1],[7,1,1]])\n",
    "matrix2 = 2*matrix\n",
    "matrix2[:,-1] = 1\n",
    "matrix2"
   ]
  },
  {
   "cell_type": "code",
   "execution_count": 161,
   "metadata": {
    "scrolled": false
   },
   "outputs": [
    {
     "name": "stdout",
     "output_type": "stream",
     "text": [
      "[[-2.078 -0.094  1.000]\n",
      " [-1.134 -0.567  1.000]\n",
      " [ 1.228  0.850  1.000]\n",
      " [ 1.228  0.378  1.000]\n",
      " [ 0.756 -0.567  1.000]]\n",
      "[[-2.078 -0.094  1.000]\n",
      " [-1.134 -0.567  1.000]\n",
      " [ 1.228  0.850  1.000]\n",
      " [ 1.228  0.378  1.000]\n",
      " [ 0.756 -0.567  1.000]]\n",
      "[[-1.155 -0.000 -0.000]\n",
      " [ 0.000 -1.155  0.000]\n",
      " [ 0.000 -0.000 -0.577]]\n"
     ]
    }
   ],
   "source": [
    "#matrix = [[1, 2, 1],[3,1, 1],[8, 4, 1],[8,3,1],[7,1,1]]\n",
    "\n",
    "H = dlt(matrix, matrix2)\n",
    "print(H)\n",
    "sol = H @ np.array([1, 2, 1])"
   ]
  },
  {
   "cell_type": "code",
   "execution_count": 162,
   "metadata": {},
   "outputs": [
    {
     "data": {
      "text/plain": [
       "array([ 2.000,  4.000,  1.000])"
      ]
     },
     "execution_count": 162,
     "metadata": {},
     "output_type": "execute_result"
    }
   ],
   "source": [
    "sol/sol[2]"
   ]
  },
  {
   "cell_type": "code",
   "execution_count": 10,
   "metadata": {},
   "outputs": [
    {
     "data": {
      "text/plain": [
       "array([ 5.400,  2.200,  1.000])"
      ]
     },
     "execution_count": 10,
     "metadata": {},
     "output_type": "execute_result"
    }
   ],
   "source": [
    "np.mean(matrix, axis=0)"
   ]
  },
  {
   "cell_type": "code",
   "execution_count": 14,
   "metadata": {},
   "outputs": [
    {
     "data": {
      "text/plain": [
       "array([[-4.400, -0.200,  0.000],\n",
       "       [-2.400, -1.200,  0.000],\n",
       "       [ 2.600,  1.800,  0.000],\n",
       "       [ 2.600,  0.800,  0.000],\n",
       "       [ 1.600, -1.200,  0.000]])"
      ]
     },
     "execution_count": 14,
     "metadata": {},
     "output_type": "execute_result"
    }
   ],
   "source": [
    "aux = np.mean(matrix, axis=0)\n",
    "centro = np.tile(aux, (np.shape(matrix)[0],1))\n",
    "aux = matrix - centro\n",
    "aux"
   ]
  },
  {
   "cell_type": "code",
   "execution_count": 13,
   "metadata": {},
   "outputs": [
    {
     "data": {
      "text/plain": [
       "array([ 4.405,  2.683,  3.162,  2.720,  2.000])"
      ]
     },
     "execution_count": 13,
     "metadata": {},
     "output_type": "execute_result"
    }
   ],
   "source": [
    "np.linalg.norm(aux, axis=1)"
   ]
  },
  {
   "cell_type": "code",
   "execution_count": 15,
   "metadata": {},
   "outputs": [
    {
     "data": {
      "text/plain": [
       "2.9940792888048526"
      ]
     },
     "execution_count": 15,
     "metadata": {},
     "output_type": "execute_result"
    }
   ],
   "source": [
    "np.mean(np.linalg.norm(aux, axis=1))"
   ]
  },
  {
   "cell_type": "code",
   "execution_count": 34,
   "metadata": {},
   "outputs": [
    {
     "data": {
      "text/plain": [
       "array([[ 1.000,  0.000,  0.000],\n",
       "       [ 0.000,  0.000,  0.000],\n",
       "       [ 0.000,  0.000,  0.000]])"
      ]
     },
     "execution_count": 34,
     "metadata": {},
     "output_type": "execute_result"
    }
   ],
   "source": [
    "H"
   ]
  },
  {
   "cell_type": "code",
   "execution_count": 35,
   "metadata": {},
   "outputs": [],
   "source": [
    "xs = [aux[0]/aux[2] for aux in matrix]\n",
    "ys = [aux[1]/aux[2] for aux in matrix]"
   ]
  },
  {
   "cell_type": "code",
   "execution_count": 36,
   "metadata": {},
   "outputs": [
    {
     "data": {
      "text/plain": [
       "[<matplotlib.lines.Line2D at 0x7f3e6d5b86a0>]"
      ]
     },
     "execution_count": 36,
     "metadata": {},
     "output_type": "execute_result"
    },
    {
     "data": {
      "image/png": "[encoded data removed]",
      "text/plain": [
       "<Figure size 432x288 with 1 Axes>"
      ]
     },
     "metadata": {
      "needs_background": "light"
     },
     "output_type": "display_data"
    }
   ],
   "source": [
    "plt.plot(xs, ys, 'bo')"
   ]
  },
  {
   "cell_type": "code",
   "execution_count": null,
   "metadata": {},
   "outputs": [],
   "source": []
  }
 ],
 "metadata": {
  "kernelspec": {
   "display_name": "Python 3",
   "language": "python",
   "name": "python3"
  },
  "language_info": {
   "codemirror_mode": {
    "name": "ipython",
    "version": 3
   },
   "file_extension": ".py",
   "mimetype": "text/x-python",
   "name": "python",
   "nbconvert_exporter": "python",
   "pygments_lexer": "ipython3",
   "version": "3.6.6"
  }
 },
 "nbformat": 4,
 "nbformat_minor": 2
}
